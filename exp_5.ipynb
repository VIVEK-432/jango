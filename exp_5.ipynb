{
  "cells": [
    {
      "cell_type": "code",
      "execution_count": null,
      "metadata": {
        "id": "Kuz7RHadw-nZ"
      },
      "outputs": [],
      "source": [
        "import numpy as np\n",
        "import pandas as pd\n",
        "from sklearn.model_selection import train_test_split\n",
        "from sklearn.preprocessing import StandardScaler"
      ]
    },
    {
      "cell_type": "code",
      "execution_count": null,
      "metadata": {
        "id": "x32rbp-pw-na"
      },
      "outputs": [],
      "source": [
        "df = pd.read_csv(\"/content/Social_Network_Ads.csv\")"
      ]
    },
    {
      "cell_type": "code",
      "execution_count": null,
      "metadata": {
        "colab": {
          "base_uri": "https://localhost:8080/",
          "height": 206
        },
        "id": "a5L8mj6Gw-nb",
        "outputId": "982102fa-bbb9-49ed-b871-53074cebaad2"
      },
      "outputs": [
        {
          "output_type": "execute_result",
          "data": {
            "text/plain": [
              "    User ID  Gender  Age  EstimatedSalary  Purchased\n",
              "0  15624510    Male   19            19000          0\n",
              "1  15810944    Male   35            20000          0\n",
              "2  15668575  Female   26            43000          0\n",
              "3  15603246  Female   27            57000          0\n",
              "4  15804002    Male   19            76000          0"
            ],
            "text/html": [
              "\n",
              "  <div id=\"df-1fed65b5-c702-4c52-a849-cb7dc67c696d\" class=\"colab-df-container\">\n",
              "    <div>\n",
              "<style scoped>\n",
              "    .dataframe tbody tr th:only-of-type {\n",
              "        vertical-align: middle;\n",
              "    }\n",
              "\n",
              "    .dataframe tbody tr th {\n",
              "        vertical-align: top;\n",
              "    }\n",
              "\n",
              "    .dataframe thead th {\n",
              "        text-align: right;\n",
              "    }\n",
              "</style>\n",
              "<table border=\"1\" class=\"dataframe\">\n",
              "  <thead>\n",
              "    <tr style=\"text-align: right;\">\n",
              "      <th></th>\n",
              "      <th>User ID</th>\n",
              "      <th>Gender</th>\n",
              "      <th>Age</th>\n",
              "      <th>EstimatedSalary</th>\n",
              "      <th>Purchased</th>\n",
              "    </tr>\n",
              "  </thead>\n",
              "  <tbody>\n",
              "    <tr>\n",
              "      <th>0</th>\n",
              "      <td>15624510</td>\n",
              "      <td>Male</td>\n",
              "      <td>19</td>\n",
              "      <td>19000</td>\n",
              "      <td>0</td>\n",
              "    </tr>\n",
              "    <tr>\n",
              "      <th>1</th>\n",
              "      <td>15810944</td>\n",
              "      <td>Male</td>\n",
              "      <td>35</td>\n",
              "      <td>20000</td>\n",
              "      <td>0</td>\n",
              "    </tr>\n",
              "    <tr>\n",
              "      <th>2</th>\n",
              "      <td>15668575</td>\n",
              "      <td>Female</td>\n",
              "      <td>26</td>\n",
              "      <td>43000</td>\n",
              "      <td>0</td>\n",
              "    </tr>\n",
              "    <tr>\n",
              "      <th>3</th>\n",
              "      <td>15603246</td>\n",
              "      <td>Female</td>\n",
              "      <td>27</td>\n",
              "      <td>57000</td>\n",
              "      <td>0</td>\n",
              "    </tr>\n",
              "    <tr>\n",
              "      <th>4</th>\n",
              "      <td>15804002</td>\n",
              "      <td>Male</td>\n",
              "      <td>19</td>\n",
              "      <td>76000</td>\n",
              "      <td>0</td>\n",
              "    </tr>\n",
              "  </tbody>\n",
              "</table>\n",
              "</div>\n",
              "    <div class=\"colab-df-buttons\">\n",
              "\n",
              "  <div class=\"colab-df-container\">\n",
              "    <button class=\"colab-df-convert\" onclick=\"convertToInteractive('df-1fed65b5-c702-4c52-a849-cb7dc67c696d')\"\n",
              "            title=\"Convert this dataframe to an interactive table.\"\n",
              "            style=\"display:none;\">\n",
              "\n",
              "  <svg xmlns=\"http://www.w3.org/2000/svg\" height=\"24px\" viewBox=\"0 -960 960 960\">\n",
              "    <path d=\"M120-120v-720h720v720H120Zm60-500h600v-160H180v160Zm220 220h160v-160H400v160Zm0 220h160v-160H400v160ZM180-400h160v-160H180v160Zm440 0h160v-160H620v160ZM180-180h160v-160H180v160Zm440 0h160v-160H620v160Z\"/>\n",
              "  </svg>\n",
              "    </button>\n",
              "\n",
              "  <style>\n",
              "    .colab-df-container {\n",
              "      display:flex;\n",
              "      gap: 12px;\n",
              "    }\n",
              "\n",
              "    .colab-df-convert {\n",
              "      background-color: #E8F0FE;\n",
              "      border: none;\n",
              "      border-radius: 50%;\n",
              "      cursor: pointer;\n",
              "      display: none;\n",
              "      fill: #1967D2;\n",
              "      height: 32px;\n",
              "      padding: 0 0 0 0;\n",
              "      width: 32px;\n",
              "    }\n",
              "\n",
              "    .colab-df-convert:hover {\n",
              "      background-color: #E2EBFA;\n",
              "      box-shadow: 0px 1px 2px rgba(60, 64, 67, 0.3), 0px 1px 3px 1px rgba(60, 64, 67, 0.15);\n",
              "      fill: #174EA6;\n",
              "    }\n",
              "\n",
              "    .colab-df-buttons div {\n",
              "      margin-bottom: 4px;\n",
              "    }\n",
              "\n",
              "    [theme=dark] .colab-df-convert {\n",
              "      background-color: #3B4455;\n",
              "      fill: #D2E3FC;\n",
              "    }\n",
              "\n",
              "    [theme=dark] .colab-df-convert:hover {\n",
              "      background-color: #434B5C;\n",
              "      box-shadow: 0px 1px 3px 1px rgba(0, 0, 0, 0.15);\n",
              "      filter: drop-shadow(0px 1px 2px rgba(0, 0, 0, 0.3));\n",
              "      fill: #FFFFFF;\n",
              "    }\n",
              "  </style>\n",
              "\n",
              "    <script>\n",
              "      const buttonEl =\n",
              "        document.querySelector('#df-1fed65b5-c702-4c52-a849-cb7dc67c696d button.colab-df-convert');\n",
              "      buttonEl.style.display =\n",
              "        google.colab.kernel.accessAllowed ? 'block' : 'none';\n",
              "\n",
              "      async function convertToInteractive(key) {\n",
              "        const element = document.querySelector('#df-1fed65b5-c702-4c52-a849-cb7dc67c696d');\n",
              "        const dataTable =\n",
              "          await google.colab.kernel.invokeFunction('convertToInteractive',\n",
              "                                                    [key], {});\n",
              "        if (!dataTable) return;\n",
              "\n",
              "        const docLinkHtml = 'Like what you see? Visit the ' +\n",
              "          '<a target=\"_blank\" href=https://colab.research.google.com/notebooks/data_table.ipynb>data table notebook</a>'\n",
              "          + ' to learn more about interactive tables.';\n",
              "        element.innerHTML = '';\n",
              "        dataTable['output_type'] = 'display_data';\n",
              "        await google.colab.output.renderOutput(dataTable, element);\n",
              "        const docLink = document.createElement('div');\n",
              "        docLink.innerHTML = docLinkHtml;\n",
              "        element.appendChild(docLink);\n",
              "      }\n",
              "    </script>\n",
              "  </div>\n",
              "\n",
              "\n",
              "<div id=\"df-4640cfaa-b639-41d3-b4fa-15343ace3f04\">\n",
              "  <button class=\"colab-df-quickchart\" onclick=\"quickchart('df-4640cfaa-b639-41d3-b4fa-15343ace3f04')\"\n",
              "            title=\"Suggest charts\"\n",
              "            style=\"display:none;\">\n",
              "\n",
              "<svg xmlns=\"http://www.w3.org/2000/svg\" height=\"24px\"viewBox=\"0 0 24 24\"\n",
              "     width=\"24px\">\n",
              "    <g>\n",
              "        <path d=\"M19 3H5c-1.1 0-2 .9-2 2v14c0 1.1.9 2 2 2h14c1.1 0 2-.9 2-2V5c0-1.1-.9-2-2-2zM9 17H7v-7h2v7zm4 0h-2V7h2v10zm4 0h-2v-4h2v4z\"/>\n",
              "    </g>\n",
              "</svg>\n",
              "  </button>\n",
              "\n",
              "<style>\n",
              "  .colab-df-quickchart {\n",
              "      --bg-color: #E8F0FE;\n",
              "      --fill-color: #1967D2;\n",
              "      --hover-bg-color: #E2EBFA;\n",
              "      --hover-fill-color: #174EA6;\n",
              "      --disabled-fill-color: #AAA;\n",
              "      --disabled-bg-color: #DDD;\n",
              "  }\n",
              "\n",
              "  [theme=dark] .colab-df-quickchart {\n",
              "      --bg-color: #3B4455;\n",
              "      --fill-color: #D2E3FC;\n",
              "      --hover-bg-color: #434B5C;\n",
              "      --hover-fill-color: #FFFFFF;\n",
              "      --disabled-bg-color: #3B4455;\n",
              "      --disabled-fill-color: #666;\n",
              "  }\n",
              "\n",
              "  .colab-df-quickchart {\n",
              "    background-color: var(--bg-color);\n",
              "    border: none;\n",
              "    border-radius: 50%;\n",
              "    cursor: pointer;\n",
              "    display: none;\n",
              "    fill: var(--fill-color);\n",
              "    height: 32px;\n",
              "    padding: 0;\n",
              "    width: 32px;\n",
              "  }\n",
              "\n",
              "  .colab-df-quickchart:hover {\n",
              "    background-color: var(--hover-bg-color);\n",
              "    box-shadow: 0 1px 2px rgba(60, 64, 67, 0.3), 0 1px 3px 1px rgba(60, 64, 67, 0.15);\n",
              "    fill: var(--button-hover-fill-color);\n",
              "  }\n",
              "\n",
              "  .colab-df-quickchart-complete:disabled,\n",
              "  .colab-df-quickchart-complete:disabled:hover {\n",
              "    background-color: var(--disabled-bg-color);\n",
              "    fill: var(--disabled-fill-color);\n",
              "    box-shadow: none;\n",
              "  }\n",
              "\n",
              "  .colab-df-spinner {\n",
              "    border: 2px solid var(--fill-color);\n",
              "    border-color: transparent;\n",
              "    border-bottom-color: var(--fill-color);\n",
              "    animation:\n",
              "      spin 1s steps(1) infinite;\n",
              "  }\n",
              "\n",
              "  @keyframes spin {\n",
              "    0% {\n",
              "      border-color: transparent;\n",
              "      border-bottom-color: var(--fill-color);\n",
              "      border-left-color: var(--fill-color);\n",
              "    }\n",
              "    20% {\n",
              "      border-color: transparent;\n",
              "      border-left-color: var(--fill-color);\n",
              "      border-top-color: var(--fill-color);\n",
              "    }\n",
              "    30% {\n",
              "      border-color: transparent;\n",
              "      border-left-color: var(--fill-color);\n",
              "      border-top-color: var(--fill-color);\n",
              "      border-right-color: var(--fill-color);\n",
              "    }\n",
              "    40% {\n",
              "      border-color: transparent;\n",
              "      border-right-color: var(--fill-color);\n",
              "      border-top-color: var(--fill-color);\n",
              "    }\n",
              "    60% {\n",
              "      border-color: transparent;\n",
              "      border-right-color: var(--fill-color);\n",
              "    }\n",
              "    80% {\n",
              "      border-color: transparent;\n",
              "      border-right-color: var(--fill-color);\n",
              "      border-bottom-color: var(--fill-color);\n",
              "    }\n",
              "    90% {\n",
              "      border-color: transparent;\n",
              "      border-bottom-color: var(--fill-color);\n",
              "    }\n",
              "  }\n",
              "</style>\n",
              "\n",
              "  <script>\n",
              "    async function quickchart(key) {\n",
              "      const quickchartButtonEl =\n",
              "        document.querySelector('#' + key + ' button');\n",
              "      quickchartButtonEl.disabled = true;  // To prevent multiple clicks.\n",
              "      quickchartButtonEl.classList.add('colab-df-spinner');\n",
              "      try {\n",
              "        const charts = await google.colab.kernel.invokeFunction(\n",
              "            'suggestCharts', [key], {});\n",
              "      } catch (error) {\n",
              "        console.error('Error during call to suggestCharts:', error);\n",
              "      }\n",
              "      quickchartButtonEl.classList.remove('colab-df-spinner');\n",
              "      quickchartButtonEl.classList.add('colab-df-quickchart-complete');\n",
              "    }\n",
              "    (() => {\n",
              "      let quickchartButtonEl =\n",
              "        document.querySelector('#df-4640cfaa-b639-41d3-b4fa-15343ace3f04 button');\n",
              "      quickchartButtonEl.style.display =\n",
              "        google.colab.kernel.accessAllowed ? 'block' : 'none';\n",
              "    })();\n",
              "  </script>\n",
              "</div>\n",
              "\n",
              "    </div>\n",
              "  </div>\n"
            ],
            "application/vnd.google.colaboratory.intrinsic+json": {
              "type": "dataframe",
              "variable_name": "df",
              "summary": "{\n  \"name\": \"df\",\n  \"rows\": 400,\n  \"fields\": [\n    {\n      \"column\": \"User ID\",\n      \"properties\": {\n        \"dtype\": \"number\",\n        \"std\": 71658,\n        \"min\": 15566689,\n        \"max\": 15815236,\n        \"num_unique_values\": 400,\n        \"samples\": [\n          15697424,\n          15609669,\n          15776733\n        ],\n        \"semantic_type\": \"\",\n        \"description\": \"\"\n      }\n    },\n    {\n      \"column\": \"Gender\",\n      \"properties\": {\n        \"dtype\": \"category\",\n        \"num_unique_values\": 2,\n        \"samples\": [\n          \"Female\",\n          \"Male\"\n        ],\n        \"semantic_type\": \"\",\n        \"description\": \"\"\n      }\n    },\n    {\n      \"column\": \"Age\",\n      \"properties\": {\n        \"dtype\": \"number\",\n        \"std\": 10,\n        \"min\": 18,\n        \"max\": 60,\n        \"num_unique_values\": 43,\n        \"samples\": [\n          50,\n          39\n        ],\n        \"semantic_type\": \"\",\n        \"description\": \"\"\n      }\n    },\n    {\n      \"column\": \"EstimatedSalary\",\n      \"properties\": {\n        \"dtype\": \"number\",\n        \"std\": 34096,\n        \"min\": 15000,\n        \"max\": 150000,\n        \"num_unique_values\": 117,\n        \"samples\": [\n          117000,\n          76000\n        ],\n        \"semantic_type\": \"\",\n        \"description\": \"\"\n      }\n    },\n    {\n      \"column\": \"Purchased\",\n      \"properties\": {\n        \"dtype\": \"number\",\n        \"std\": 0,\n        \"min\": 0,\n        \"max\": 1,\n        \"num_unique_values\": 2,\n        \"samples\": [\n          1,\n          0\n        ],\n        \"semantic_type\": \"\",\n        \"description\": \"\"\n      }\n    }\n  ]\n}"
            }
          },
          "metadata": {},
          "execution_count": 29
        }
      ],
      "source": [
        "df.head()"
      ]
    },
    {
      "cell_type": "code",
      "execution_count": null,
      "metadata": {
        "colab": {
          "base_uri": "https://localhost:8080/",
          "height": 300
        },
        "id": "QmcY59ZNw-nb",
        "outputId": "b558d75e-e100-4645-ae55-cf4bbdd7d7ae"
      },
      "outputs": [
        {
          "output_type": "execute_result",
          "data": {
            "text/plain": [
              "            User ID         Age  EstimatedSalary   Purchased\n",
              "count  4.000000e+02  400.000000       400.000000  400.000000\n",
              "mean   1.569154e+07   37.655000     69742.500000    0.357500\n",
              "std    7.165832e+04   10.482877     34096.960282    0.479864\n",
              "min    1.556669e+07   18.000000     15000.000000    0.000000\n",
              "25%    1.562676e+07   29.750000     43000.000000    0.000000\n",
              "50%    1.569434e+07   37.000000     70000.000000    0.000000\n",
              "75%    1.575036e+07   46.000000     88000.000000    1.000000\n",
              "max    1.581524e+07   60.000000    150000.000000    1.000000"
            ],
            "text/html": [
              "\n",
              "  <div id=\"df-bc419885-417f-42c8-b52d-b0973c8add3c\" class=\"colab-df-container\">\n",
              "    <div>\n",
              "<style scoped>\n",
              "    .dataframe tbody tr th:only-of-type {\n",
              "        vertical-align: middle;\n",
              "    }\n",
              "\n",
              "    .dataframe tbody tr th {\n",
              "        vertical-align: top;\n",
              "    }\n",
              "\n",
              "    .dataframe thead th {\n",
              "        text-align: right;\n",
              "    }\n",
              "</style>\n",
              "<table border=\"1\" class=\"dataframe\">\n",
              "  <thead>\n",
              "    <tr style=\"text-align: right;\">\n",
              "      <th></th>\n",
              "      <th>User ID</th>\n",
              "      <th>Age</th>\n",
              "      <th>EstimatedSalary</th>\n",
              "      <th>Purchased</th>\n",
              "    </tr>\n",
              "  </thead>\n",
              "  <tbody>\n",
              "    <tr>\n",
              "      <th>count</th>\n",
              "      <td>4.000000e+02</td>\n",
              "      <td>400.000000</td>\n",
              "      <td>400.000000</td>\n",
              "      <td>400.000000</td>\n",
              "    </tr>\n",
              "    <tr>\n",
              "      <th>mean</th>\n",
              "      <td>1.569154e+07</td>\n",
              "      <td>37.655000</td>\n",
              "      <td>69742.500000</td>\n",
              "      <td>0.357500</td>\n",
              "    </tr>\n",
              "    <tr>\n",
              "      <th>std</th>\n",
              "      <td>7.165832e+04</td>\n",
              "      <td>10.482877</td>\n",
              "      <td>34096.960282</td>\n",
              "      <td>0.479864</td>\n",
              "    </tr>\n",
              "    <tr>\n",
              "      <th>min</th>\n",
              "      <td>1.556669e+07</td>\n",
              "      <td>18.000000</td>\n",
              "      <td>15000.000000</td>\n",
              "      <td>0.000000</td>\n",
              "    </tr>\n",
              "    <tr>\n",
              "      <th>25%</th>\n",
              "      <td>1.562676e+07</td>\n",
              "      <td>29.750000</td>\n",
              "      <td>43000.000000</td>\n",
              "      <td>0.000000</td>\n",
              "    </tr>\n",
              "    <tr>\n",
              "      <th>50%</th>\n",
              "      <td>1.569434e+07</td>\n",
              "      <td>37.000000</td>\n",
              "      <td>70000.000000</td>\n",
              "      <td>0.000000</td>\n",
              "    </tr>\n",
              "    <tr>\n",
              "      <th>75%</th>\n",
              "      <td>1.575036e+07</td>\n",
              "      <td>46.000000</td>\n",
              "      <td>88000.000000</td>\n",
              "      <td>1.000000</td>\n",
              "    </tr>\n",
              "    <tr>\n",
              "      <th>max</th>\n",
              "      <td>1.581524e+07</td>\n",
              "      <td>60.000000</td>\n",
              "      <td>150000.000000</td>\n",
              "      <td>1.000000</td>\n",
              "    </tr>\n",
              "  </tbody>\n",
              "</table>\n",
              "</div>\n",
              "    <div class=\"colab-df-buttons\">\n",
              "\n",
              "  <div class=\"colab-df-container\">\n",
              "    <button class=\"colab-df-convert\" onclick=\"convertToInteractive('df-bc419885-417f-42c8-b52d-b0973c8add3c')\"\n",
              "            title=\"Convert this dataframe to an interactive table.\"\n",
              "            style=\"display:none;\">\n",
              "\n",
              "  <svg xmlns=\"http://www.w3.org/2000/svg\" height=\"24px\" viewBox=\"0 -960 960 960\">\n",
              "    <path d=\"M120-120v-720h720v720H120Zm60-500h600v-160H180v160Zm220 220h160v-160H400v160Zm0 220h160v-160H400v160ZM180-400h160v-160H180v160Zm440 0h160v-160H620v160ZM180-180h160v-160H180v160Zm440 0h160v-160H620v160Z\"/>\n",
              "  </svg>\n",
              "    </button>\n",
              "\n",
              "  <style>\n",
              "    .colab-df-container {\n",
              "      display:flex;\n",
              "      gap: 12px;\n",
              "    }\n",
              "\n",
              "    .colab-df-convert {\n",
              "      background-color: #E8F0FE;\n",
              "      border: none;\n",
              "      border-radius: 50%;\n",
              "      cursor: pointer;\n",
              "      display: none;\n",
              "      fill: #1967D2;\n",
              "      height: 32px;\n",
              "      padding: 0 0 0 0;\n",
              "      width: 32px;\n",
              "    }\n",
              "\n",
              "    .colab-df-convert:hover {\n",
              "      background-color: #E2EBFA;\n",
              "      box-shadow: 0px 1px 2px rgba(60, 64, 67, 0.3), 0px 1px 3px 1px rgba(60, 64, 67, 0.15);\n",
              "      fill: #174EA6;\n",
              "    }\n",
              "\n",
              "    .colab-df-buttons div {\n",
              "      margin-bottom: 4px;\n",
              "    }\n",
              "\n",
              "    [theme=dark] .colab-df-convert {\n",
              "      background-color: #3B4455;\n",
              "      fill: #D2E3FC;\n",
              "    }\n",
              "\n",
              "    [theme=dark] .colab-df-convert:hover {\n",
              "      background-color: #434B5C;\n",
              "      box-shadow: 0px 1px 3px 1px rgba(0, 0, 0, 0.15);\n",
              "      filter: drop-shadow(0px 1px 2px rgba(0, 0, 0, 0.3));\n",
              "      fill: #FFFFFF;\n",
              "    }\n",
              "  </style>\n",
              "\n",
              "    <script>\n",
              "      const buttonEl =\n",
              "        document.querySelector('#df-bc419885-417f-42c8-b52d-b0973c8add3c button.colab-df-convert');\n",
              "      buttonEl.style.display =\n",
              "        google.colab.kernel.accessAllowed ? 'block' : 'none';\n",
              "\n",
              "      async function convertToInteractive(key) {\n",
              "        const element = document.querySelector('#df-bc419885-417f-42c8-b52d-b0973c8add3c');\n",
              "        const dataTable =\n",
              "          await google.colab.kernel.invokeFunction('convertToInteractive',\n",
              "                                                    [key], {});\n",
              "        if (!dataTable) return;\n",
              "\n",
              "        const docLinkHtml = 'Like what you see? Visit the ' +\n",
              "          '<a target=\"_blank\" href=https://colab.research.google.com/notebooks/data_table.ipynb>data table notebook</a>'\n",
              "          + ' to learn more about interactive tables.';\n",
              "        element.innerHTML = '';\n",
              "        dataTable['output_type'] = 'display_data';\n",
              "        await google.colab.output.renderOutput(dataTable, element);\n",
              "        const docLink = document.createElement('div');\n",
              "        docLink.innerHTML = docLinkHtml;\n",
              "        element.appendChild(docLink);\n",
              "      }\n",
              "    </script>\n",
              "  </div>\n",
              "\n",
              "\n",
              "<div id=\"df-35d4e35e-7dc6-4be9-ae0c-31b536d7b329\">\n",
              "  <button class=\"colab-df-quickchart\" onclick=\"quickchart('df-35d4e35e-7dc6-4be9-ae0c-31b536d7b329')\"\n",
              "            title=\"Suggest charts\"\n",
              "            style=\"display:none;\">\n",
              "\n",
              "<svg xmlns=\"http://www.w3.org/2000/svg\" height=\"24px\"viewBox=\"0 0 24 24\"\n",
              "     width=\"24px\">\n",
              "    <g>\n",
              "        <path d=\"M19 3H5c-1.1 0-2 .9-2 2v14c0 1.1.9 2 2 2h14c1.1 0 2-.9 2-2V5c0-1.1-.9-2-2-2zM9 17H7v-7h2v7zm4 0h-2V7h2v10zm4 0h-2v-4h2v4z\"/>\n",
              "    </g>\n",
              "</svg>\n",
              "  </button>\n",
              "\n",
              "<style>\n",
              "  .colab-df-quickchart {\n",
              "      --bg-color: #E8F0FE;\n",
              "      --fill-color: #1967D2;\n",
              "      --hover-bg-color: #E2EBFA;\n",
              "      --hover-fill-color: #174EA6;\n",
              "      --disabled-fill-color: #AAA;\n",
              "      --disabled-bg-color: #DDD;\n",
              "  }\n",
              "\n",
              "  [theme=dark] .colab-df-quickchart {\n",
              "      --bg-color: #3B4455;\n",
              "      --fill-color: #D2E3FC;\n",
              "      --hover-bg-color: #434B5C;\n",
              "      --hover-fill-color: #FFFFFF;\n",
              "      --disabled-bg-color: #3B4455;\n",
              "      --disabled-fill-color: #666;\n",
              "  }\n",
              "\n",
              "  .colab-df-quickchart {\n",
              "    background-color: var(--bg-color);\n",
              "    border: none;\n",
              "    border-radius: 50%;\n",
              "    cursor: pointer;\n",
              "    display: none;\n",
              "    fill: var(--fill-color);\n",
              "    height: 32px;\n",
              "    padding: 0;\n",
              "    width: 32px;\n",
              "  }\n",
              "\n",
              "  .colab-df-quickchart:hover {\n",
              "    background-color: var(--hover-bg-color);\n",
              "    box-shadow: 0 1px 2px rgba(60, 64, 67, 0.3), 0 1px 3px 1px rgba(60, 64, 67, 0.15);\n",
              "    fill: var(--button-hover-fill-color);\n",
              "  }\n",
              "\n",
              "  .colab-df-quickchart-complete:disabled,\n",
              "  .colab-df-quickchart-complete:disabled:hover {\n",
              "    background-color: var(--disabled-bg-color);\n",
              "    fill: var(--disabled-fill-color);\n",
              "    box-shadow: none;\n",
              "  }\n",
              "\n",
              "  .colab-df-spinner {\n",
              "    border: 2px solid var(--fill-color);\n",
              "    border-color: transparent;\n",
              "    border-bottom-color: var(--fill-color);\n",
              "    animation:\n",
              "      spin 1s steps(1) infinite;\n",
              "  }\n",
              "\n",
              "  @keyframes spin {\n",
              "    0% {\n",
              "      border-color: transparent;\n",
              "      border-bottom-color: var(--fill-color);\n",
              "      border-left-color: var(--fill-color);\n",
              "    }\n",
              "    20% {\n",
              "      border-color: transparent;\n",
              "      border-left-color: var(--fill-color);\n",
              "      border-top-color: var(--fill-color);\n",
              "    }\n",
              "    30% {\n",
              "      border-color: transparent;\n",
              "      border-left-color: var(--fill-color);\n",
              "      border-top-color: var(--fill-color);\n",
              "      border-right-color: var(--fill-color);\n",
              "    }\n",
              "    40% {\n",
              "      border-color: transparent;\n",
              "      border-right-color: var(--fill-color);\n",
              "      border-top-color: var(--fill-color);\n",
              "    }\n",
              "    60% {\n",
              "      border-color: transparent;\n",
              "      border-right-color: var(--fill-color);\n",
              "    }\n",
              "    80% {\n",
              "      border-color: transparent;\n",
              "      border-right-color: var(--fill-color);\n",
              "      border-bottom-color: var(--fill-color);\n",
              "    }\n",
              "    90% {\n",
              "      border-color: transparent;\n",
              "      border-bottom-color: var(--fill-color);\n",
              "    }\n",
              "  }\n",
              "</style>\n",
              "\n",
              "  <script>\n",
              "    async function quickchart(key) {\n",
              "      const quickchartButtonEl =\n",
              "        document.querySelector('#' + key + ' button');\n",
              "      quickchartButtonEl.disabled = true;  // To prevent multiple clicks.\n",
              "      quickchartButtonEl.classList.add('colab-df-spinner');\n",
              "      try {\n",
              "        const charts = await google.colab.kernel.invokeFunction(\n",
              "            'suggestCharts', [key], {});\n",
              "      } catch (error) {\n",
              "        console.error('Error during call to suggestCharts:', error);\n",
              "      }\n",
              "      quickchartButtonEl.classList.remove('colab-df-spinner');\n",
              "      quickchartButtonEl.classList.add('colab-df-quickchart-complete');\n",
              "    }\n",
              "    (() => {\n",
              "      let quickchartButtonEl =\n",
              "        document.querySelector('#df-35d4e35e-7dc6-4be9-ae0c-31b536d7b329 button');\n",
              "      quickchartButtonEl.style.display =\n",
              "        google.colab.kernel.accessAllowed ? 'block' : 'none';\n",
              "    })();\n",
              "  </script>\n",
              "</div>\n",
              "\n",
              "    </div>\n",
              "  </div>\n"
            ],
            "application/vnd.google.colaboratory.intrinsic+json": {
              "type": "dataframe",
              "summary": "{\n  \"name\": \"df\",\n  \"rows\": 8,\n  \"fields\": [\n    {\n      \"column\": \"User ID\",\n      \"properties\": {\n        \"dtype\": \"number\",\n        \"std\": 7247165.99146923,\n        \"min\": 400.0,\n        \"max\": 15815236.0,\n        \"num_unique_values\": 8,\n        \"samples\": [\n          15691539.7575,\n          15694341.5,\n          400.0\n        ],\n        \"semantic_type\": \"\",\n        \"description\": \"\"\n      }\n    },\n    {\n      \"column\": \"Age\",\n      \"properties\": {\n        \"dtype\": \"number\",\n        \"std\": 130.27423677374767,\n        \"min\": 10.482876597307914,\n        \"max\": 400.0,\n        \"num_unique_values\": 8,\n        \"samples\": [\n          37.655,\n          37.0,\n          400.0\n        ],\n        \"semantic_type\": \"\",\n        \"description\": \"\"\n      }\n    },\n    {\n      \"column\": \"EstimatedSalary\",\n      \"properties\": {\n        \"dtype\": \"number\",\n        \"std\": 47214.004060407126,\n        \"min\": 400.0,\n        \"max\": 150000.0,\n        \"num_unique_values\": 8,\n        \"samples\": [\n          69742.5,\n          70000.0,\n          400.0\n        ],\n        \"semantic_type\": \"\",\n        \"description\": \"\"\n      }\n    },\n    {\n      \"column\": \"Purchased\",\n      \"properties\": {\n        \"dtype\": \"number\",\n        \"std\": 141.27865845809384,\n        \"min\": 0.0,\n        \"max\": 400.0,\n        \"num_unique_values\": 5,\n        \"samples\": [\n          0.3575,\n          1.0,\n          0.479863963596869\n        ],\n        \"semantic_type\": \"\",\n        \"description\": \"\"\n      }\n    }\n  ]\n}"
            }
          },
          "metadata": {},
          "execution_count": 30
        }
      ],
      "source": [
        "df.describe()"
      ]
    },
    {
      "cell_type": "code",
      "execution_count": null,
      "metadata": {
        "colab": {
          "base_uri": "https://localhost:8080/"
        },
        "id": "d9xlbuplw-nc",
        "outputId": "9f9b105e-4571-4d7d-9579-4c623fd30fca"
      },
      "outputs": [
        {
          "output_type": "execute_result",
          "data": {
            "text/plain": [
              "0"
            ]
          },
          "metadata": {},
          "execution_count": 31
        }
      ],
      "source": [
        "df['Age'].isna().sum()"
      ]
    },
    {
      "cell_type": "code",
      "execution_count": null,
      "metadata": {
        "scrolled": true,
        "colab": {
          "base_uri": "https://localhost:8080/"
        },
        "id": "lHHRMOnbw-nc",
        "outputId": "ba89d569-985c-44c5-eced-c71aad3e5ea3"
      },
      "outputs": [
        {
          "output_type": "execute_result",
          "data": {
            "text/plain": [
              "0"
            ]
          },
          "metadata": {},
          "execution_count": 32
        }
      ],
      "source": [
        "df['EstimatedSalary'].isna().sum()"
      ]
    },
    {
      "cell_type": "code",
      "execution_count": null,
      "metadata": {
        "colab": {
          "base_uri": "https://localhost:8080/"
        },
        "id": "bGfomhmNw-nd",
        "outputId": "38aa340e-a276-4b20-a809-22f5b4b7df61"
      },
      "outputs": [
        {
          "output_type": "execute_result",
          "data": {
            "text/plain": [
              "0"
            ]
          },
          "metadata": {},
          "execution_count": 33
        }
      ],
      "source": [
        "df['Purchased'].isna().sum()"
      ]
    },
    {
      "cell_type": "code",
      "execution_count": null,
      "metadata": {
        "id": "ohh3eCqNw-nd"
      },
      "outputs": [],
      "source": [
        "X = df.iloc[:,2:4].values"
      ]
    },
    {
      "cell_type": "code",
      "execution_count": null,
      "metadata": {
        "colab": {
          "base_uri": "https://localhost:8080/"
        },
        "id": "Y3Cxf5FIw-nd",
        "outputId": "426503c1-a76e-48a1-edf9-9e1ff0e13808"
      },
      "outputs": [
        {
          "output_type": "execute_result",
          "data": {
            "text/plain": [
              "(400, 2)"
            ]
          },
          "metadata": {},
          "execution_count": 35
        }
      ],
      "source": [
        "X.shape"
      ]
    },
    {
      "cell_type": "code",
      "execution_count": null,
      "metadata": {
        "id": "EAbgX9Cww-ne"
      },
      "outputs": [],
      "source": [
        "y = df.iloc[:,4].values"
      ]
    },
    {
      "cell_type": "code",
      "execution_count": null,
      "metadata": {
        "id": "KhiqnIpvw-ne",
        "outputId": "49a0ce95-e37f-4a68-c3bd-3e57c7e62b1f",
        "colab": {
          "base_uri": "https://localhost:8080/"
        }
      },
      "outputs": [
        {
          "output_type": "execute_result",
          "data": {
            "text/plain": [
              "array([0, 0, 0, 0, 0, 0, 0, 1, 0, 0, 0, 0, 0, 0, 0, 0, 1, 1, 1, 1, 1, 1,\n",
              "       1, 1, 1, 1, 1, 1, 0, 0, 0, 1, 0, 0, 0, 0, 0, 0, 0, 0, 0, 0, 0, 0,\n",
              "       0, 0, 0, 0, 1, 0, 0, 0, 0, 0, 0, 0, 0, 0, 0, 0, 0, 0, 0, 1, 0, 0,\n",
              "       0, 0, 0, 0, 0, 0, 0, 0, 0, 1, 0, 0, 0, 0, 0, 0, 0, 0, 0, 1, 0, 0,\n",
              "       0, 0, 0, 0, 0, 0, 0, 0, 0, 1, 0, 0, 0, 0, 0, 1, 0, 0, 0, 0, 0, 0,\n",
              "       0, 0, 0, 0, 0, 0, 0, 0, 0, 0, 0, 0, 0, 0, 0, 0, 0, 0, 0, 0, 0, 0,\n",
              "       0, 0, 0, 0, 0, 1, 0, 0, 0, 0, 0, 0, 0, 0, 1, 0, 0, 0, 0, 0, 0, 0,\n",
              "       0, 0, 0, 0, 0, 1, 1, 0, 0, 0, 0, 0, 0, 0, 1, 0, 0, 0, 0, 0, 0, 0,\n",
              "       0, 0, 0, 0, 0, 0, 1, 0, 0, 0, 0, 0, 0, 0, 0, 0, 0, 0, 0, 0, 0, 0,\n",
              "       0, 0, 0, 0, 1, 0, 1, 0, 1, 0, 1, 0, 1, 1, 0, 0, 0, 1, 0, 0, 0, 1,\n",
              "       0, 1, 1, 1, 0, 0, 1, 1, 0, 1, 1, 0, 1, 1, 0, 1, 0, 0, 0, 1, 1, 0,\n",
              "       1, 1, 0, 1, 0, 1, 0, 1, 0, 0, 1, 1, 0, 1, 0, 0, 1, 1, 0, 1, 1, 0,\n",
              "       1, 1, 0, 0, 1, 0, 0, 1, 1, 1, 1, 1, 0, 1, 1, 1, 1, 0, 1, 1, 0, 1,\n",
              "       0, 1, 0, 1, 1, 1, 1, 0, 0, 0, 1, 1, 0, 1, 1, 1, 1, 1, 0, 0, 0, 1,\n",
              "       1, 0, 0, 1, 0, 1, 0, 1, 1, 0, 1, 0, 1, 1, 0, 1, 1, 0, 0, 0, 1, 1,\n",
              "       0, 1, 0, 0, 1, 0, 1, 0, 0, 1, 1, 0, 0, 1, 1, 0, 1, 1, 0, 0, 1, 0,\n",
              "       1, 0, 1, 1, 1, 0, 1, 0, 1, 1, 1, 0, 1, 1, 1, 1, 0, 1, 1, 1, 0, 1,\n",
              "       0, 1, 0, 0, 1, 1, 0, 1, 1, 1, 1, 1, 1, 0, 1, 1, 1, 1, 1, 1, 0, 1,\n",
              "       1, 1, 0, 1])"
            ]
          },
          "metadata": {},
          "execution_count": 37
        }
      ],
      "source": [
        "y"
      ]
    },
    {
      "cell_type": "code",
      "execution_count": null,
      "metadata": {
        "colab": {
          "base_uri": "https://localhost:8080/"
        },
        "id": "uYgzJXT8w-ne",
        "outputId": "f1077ca0-5c6a-47c6-d388-d0a9ef416059"
      },
      "outputs": [
        {
          "output_type": "execute_result",
          "data": {
            "text/plain": [
              "(400,)"
            ]
          },
          "metadata": {},
          "execution_count": 38
        }
      ],
      "source": [
        "y.shape"
      ]
    },
    {
      "cell_type": "code",
      "execution_count": null,
      "metadata": {
        "colab": {
          "base_uri": "https://localhost:8080/",
          "height": 449
        },
        "id": "jDOnmDH6w-nf",
        "outputId": "fa7a9f9b-ef02-4b78-e4a7-e483efb9ea58"
      },
      "outputs": [
        {
          "output_type": "display_data",
          "data": {
            "text/plain": [
              "<Figure size 640x480 with 1 Axes>"
            ],
            "image/png": "[encoded data removed]"
          },
          "metadata": {}
        }
      ],
      "source": [
        "import matplotlib.pyplot as plt\n",
        "plt.scatter(X[:,0:1],X[:,1:2],c=y,marker='x',)\n",
        "plt.xlabel('Age')\n",
        "plt.ylabel('Etimated Salary')\n",
        "plt.show()"
      ]
    },
    {
      "cell_type": "code",
      "execution_count": null,
      "metadata": {
        "id": "PkxIiTbWw-nf"
      },
      "outputs": [],
      "source": [
        "X_train, X_test, y_train, y_test = train_test_split(X,y,test_size = 0.3)"
      ]
    },
    {
      "cell_type": "code",
      "execution_count": null,
      "metadata": {
        "id": "vk2e3w7Bw-nf"
      },
      "outputs": [],
      "source": [
        "sc = StandardScaler()\n",
        "X_train = sc.fit_transform(X_train)\n",
        "X_test = sc.fit_transform(X_test)"
      ]
    },
    {
      "cell_type": "code",
      "execution_count": null,
      "metadata": {
        "collapsed": true,
        "id": "G8slXy0_w-nf",
        "outputId": "f623bd64-6741-4a2d-edbc-4287383a339f",
        "colab": {
          "base_uri": "https://localhost:8080/"
        }
      },
      "outputs": [
        {
          "output_type": "execute_result",
          "data": {
            "text/plain": [
              "array([[-0.6197417 ,  1.47910027],\n",
              "       [ 0.93221068,  1.08983521],\n",
              "       [ 0.93221068,  2.25763038],\n",
              "       [ 0.35022854,  0.10170084],\n",
              "       [ 0.83521366, -1.36552898],\n",
              "       [-1.29872087, -1.09603779],\n",
              "       [-1.00772979,  2.04802612],\n",
              "       [-0.03775956,  2.31751731],\n",
              "       [-0.91073277, -1.09603779],\n",
              "       [-0.81373575,  0.34124857],\n",
              "       [ 0.54422259,  1.80847839],\n",
              "       [ 1.02920771,  2.07796958],\n",
              "       [-0.91073277, -0.94632046],\n",
              "       [ 0.83521366, -1.21581165],\n",
              "       [-1.78370598, -1.27569858],\n",
              "       [ 0.83521366,  0.4011355 ],\n",
              "       [ 1.90218092, -1.27569858],\n",
              "       [-1.68670896,  0.16158777],\n",
              "       [-1.10472682,  0.46102243],\n",
              "       [-1.49271491, -0.40733807],\n",
              "       [ 0.83521366,  0.58079629],\n",
              "       [-0.71673872,  0.34124857],\n",
              "       [ 0.44722556,  0.13164431],\n",
              "       [ 0.05923747, -0.22767728],\n",
              "       [-0.2317536 , -0.22767728],\n",
              "       [-1.58971194, -1.57513324],\n",
              "       [ 0.73821663, -1.39547244],\n",
              "       [ 0.93221068, -1.36552898],\n",
              "       [-1.10472682, -1.57513324],\n",
              "       [ 0.35022854,  0.07175738],\n",
              "       [-1.78370598, -1.42541591],\n",
              "       [-0.13475658,  1.71864799],\n",
              "       [-1.20172384,  0.55085283],\n",
              "       [-1.10472682,  0.10170084],\n",
              "       [-0.71673872,  0.3113051 ],\n",
              "       [-1.29872087, -0.40733807],\n",
              "       [-0.2317536 ,  0.67062669],\n",
              "       [-0.81373575,  0.43107897],\n",
              "       [ 1.51419283,  0.4011355 ],\n",
              "       [-1.10472682,  0.34124857],\n",
              "       [ 0.35022854,  0.3113051 ],\n",
              "       [-0.81373575,  0.43107897],\n",
              "       [ 1.8051839 , -0.25762075],\n",
              "       [-1.58971194,  0.58079629],\n",
              "       [-1.20172384,  0.64068323],\n",
              "       [-0.2317536 ,  0.3113051 ],\n",
              "       [-0.2317536 ,  0.85028749],\n",
              "       [-0.03775956,  0.28136164],\n",
              "       [-0.2317536 ,  0.10170084],\n",
              "       [ 0.05923747, -0.10790342],\n",
              "       [-0.42574765,  1.32938294],\n",
              "       [ 0.64121961, -0.88643353],\n",
              "       [ 1.70818687,  1.68870453],\n",
              "       [-0.03775956,  0.04181391],\n",
              "       [-1.49271491, -1.51524631],\n",
              "       [-0.81373575, -0.76665966],\n",
              "       [-0.13475658,  1.68870453],\n",
              "       [ 0.64121961,  2.10791305],\n",
              "       [-1.20172384,  0.3113051 ],\n",
              "       [-1.10472682, -1.09603779],\n",
              "       [-1.00772979, -1.45535938],\n",
              "       [ 1.4171958 ,  2.07796958],\n",
              "       [ 0.25323152, -0.6468858 ],\n",
              "       [ 1.32019878,  2.31751731],\n",
              "       [-0.71673872, -1.6050767 ],\n",
              "       [-1.20172384,  0.34124857],\n",
              "       [ 0.25323152, -0.34745114],\n",
              "       [-0.13475658,  1.47910027],\n",
              "       [-0.03775956, -0.40733807],\n",
              "       [ 1.02920771, -1.00620739],\n",
              "       [ 0.54422259,  1.92825225],\n",
              "       [ 1.12620473,  0.16158777],\n",
              "       [ 0.44722556,  0.04181391],\n",
              "       [-0.52274467,  1.4491568 ],\n",
              "       [ 1.61118985,  0.04181391],\n",
              "       [-0.91073277,  0.3113051 ],\n",
              "       [ 0.93221068, -0.5570554 ],\n",
              "       [ 0.15623449,  0.3113051 ],\n",
              "       [-0.71673872, -1.54518977],\n",
              "       [-0.6197417 , -0.31750768],\n",
              "       [ 0.83521366,  0.16158777],\n",
              "       [-1.88070301,  0.4011355 ],\n",
              "       [ 0.73821663,  1.86836532],\n",
              "       [ 0.15623449,  0.25141817],\n",
              "       [-0.2317536 ,  0.19153124],\n",
              "       [-0.81373575, -1.21581165],\n",
              "       [-0.32875063,  1.38926987],\n",
              "       [-0.52274467,  1.4491568 ],\n",
              "       [ 0.05923747,  1.32938294],\n",
              "       [-0.91073277,  0.61073976],\n",
              "       [ 0.83521366, -1.39547244],\n",
              "       [-0.03775956, -0.49716847],\n",
              "       [-0.32875063, -0.76665966],\n",
              "       [ 0.93221068, -0.6468858 ],\n",
              "       [-0.2317536 ,  0.25141817],\n",
              "       [ 1.12620473,  0.52090936],\n",
              "       [ 1.90218092, -1.06609432],\n",
              "       [-1.10472682, -1.6050767 ],\n",
              "       [ 0.54422259,  1.29943947],\n",
              "       [ 0.35022854, -0.52711194],\n",
              "       [ 2.19317199, -0.79660313],\n",
              "       [ 1.02920771, -1.15592472],\n",
              "       [-0.03775956, -0.19773381],\n",
              "       [-0.03775956, -0.46722501],\n",
              "       [ 0.35022854, -1.15592472],\n",
              "       [-1.00772979,  0.61073976],\n",
              "       [-0.91073277,  1.6288176 ],\n",
              "       [-0.03775956,  0.3113051 ],\n",
              "       [ 0.83521366,  0.82034402],\n",
              "       [-1.88070301, -0.7367162 ],\n",
              "       [-1.00772979, -0.34745114],\n",
              "       [ 1.12620473, -0.10790342],\n",
              "       [-0.2317536 , -0.46722501],\n",
              "       [-1.68670896,  0.4011355 ],\n",
              "       [ 0.73821663,  0.3113051 ],\n",
              "       [-0.03775956,  0.34124857],\n",
              "       [ 2.19317199,  0.43107897],\n",
              "       [ 1.51419283, -1.03615086],\n",
              "       [ 0.93221068, -0.76665966],\n",
              "       [ 2.09617497, -1.18586818],\n",
              "       [-0.03775956,  0.10170084],\n",
              "       [-0.2317536 ,  0.19153124],\n",
              "       [-1.00772979, -0.43728154],\n",
              "       [-1.49271491, -0.16779035],\n",
              "       [-1.88070301, -0.49716847],\n",
              "       [ 0.05923747, -0.5570554 ],\n",
              "       [-0.2317536 ,  0.13164431],\n",
              "       [-0.6197417 , -0.01807302],\n",
              "       [ 0.44722556,  0.19153124],\n",
              "       [ 0.73821663, -0.70677273],\n",
              "       [-0.2317536 , -0.5570554 ],\n",
              "       [-1.78370598,  0.04181391],\n",
              "       [ 0.83521366,  1.4491568 ],\n",
              "       [ 0.15623449,  0.13164431],\n",
              "       [-0.2317536 ,  2.34746077],\n",
              "       [-0.2317536 ,  0.58079629],\n",
              "       [ 1.22320175, -0.97626392],\n",
              "       [-0.03775956, -1.06609432],\n",
              "       [-1.68670896,  0.4011355 ],\n",
              "       [-0.2317536 , -1.24575512],\n",
              "       [ 0.05923747,  0.07175738],\n",
              "       [-1.68670896, -0.97626392],\n",
              "       [-0.71673872,  1.14972214],\n",
              "       [-1.10472682, -0.49716847],\n",
              "       [-0.42574765, -1.12598125],\n",
              "       [ 0.44722556,  1.05989175],\n",
              "       [ 0.05923747,  1.29943947],\n",
              "       [ 1.02920771, -1.18586818],\n",
              "       [-0.2317536 , -1.30564205],\n",
              "       [ 1.4171958 ,  1.3593264 ],\n",
              "       [-0.81373575, -0.76665966],\n",
              "       [-0.6197417 , -1.6050767 ],\n",
              "       [ 0.05923747, -0.5570554 ],\n",
              "       [-0.13475658, -0.25762075],\n",
              "       [-0.91073277, -0.40733807],\n",
              "       [-0.6197417 ,  0.22147471],\n",
              "       [ 0.25323152, -0.25762075],\n",
              "       [ 0.15623449, -0.79660313],\n",
              "       [ 0.15623449, -0.28756421],\n",
              "       [-0.81373575, -0.6468858 ],\n",
              "       [-0.71673872, -0.58699887],\n",
              "       [ 0.93221068,  1.14972214],\n",
              "       [ 0.25323152, -0.34745114],\n",
              "       [-1.29872087, -0.40733807],\n",
              "       [-0.13475658, -0.43728154],\n",
              "       [ 0.35022854, -0.49716847],\n",
              "       [ 1.12620473,  0.58079629],\n",
              "       [ 1.51419283,  2.22768691],\n",
              "       [ 0.44722556,  0.3113051 ],\n",
              "       [ 0.25323152,  0.28136164],\n",
              "       [-0.03775956,  2.04802612],\n",
              "       [ 0.83521366, -0.8265466 ],\n",
              "       [ 0.83521366, -1.09603779],\n",
              "       [ 1.02920771,  0.82034402],\n",
              "       [-0.13475658, -0.16779035],\n",
              "       [-1.78370598, -1.48530284],\n",
              "       [ 0.44722556, -0.43728154],\n",
              "       [-1.00772979, -1.12598125],\n",
              "       [-0.42574765,  0.01187045],\n",
              "       [ 1.61118985,  1.17966561],\n",
              "       [ 0.25323152,  2.19774344],\n",
              "       [-1.10472682, -0.76665966],\n",
              "       [-0.32875063, -0.76665966],\n",
              "       [-1.39571789, -0.16779035],\n",
              "       [-1.00772979,  0.64068323],\n",
              "       [ 1.8051839 ,  1.05989175],\n",
              "       [-0.13475658,  0.19153124],\n",
              "       [-1.39571789, -0.61694234],\n",
              "       [ 0.93221068, -1.30564205],\n",
              "       [ 0.93221068,  1.32938294],\n",
              "       [-0.2317536 , -0.91637699],\n",
              "       [ 0.35022854, -0.25762075],\n",
              "       [-0.91073277, -0.7367162 ],\n",
              "       [-0.71673872,  1.41921334],\n",
              "       [-0.42574765, -0.8265466 ],\n",
              "       [ 1.02920771,  1.50904373],\n",
              "       [-0.91073277,  0.4909659 ],\n",
              "       [-1.10472682, -1.6050767 ],\n",
              "       [-1.88070301, -0.01807302],\n",
              "       [ 0.44722556, -0.46722501],\n",
              "       [-1.58971194,  0.10170084],\n",
              "       [-0.91073277, -0.28756421],\n",
              "       [-1.10472682, -1.54518977],\n",
              "       [-0.52274467, -1.51524631],\n",
              "       [ 2.19317199,  1.17966561],\n",
              "       [-0.6197417 ,  0.16158777],\n",
              "       [ 0.25323152, -0.28756421],\n",
              "       [-1.00772979,  0.58079629],\n",
              "       [-0.2317536 ,  1.17966561],\n",
              "       [ 0.44722556, -0.13784688],\n",
              "       [ 2.09617497, -0.79660313],\n",
              "       [-0.03775956,  0.25141817],\n",
              "       [-0.03775956,  0.73051362],\n",
              "       [ 0.35022854, -0.16779035],\n",
              "       [ 1.99917794,  0.79040055],\n",
              "       [ 1.12620473,  2.16779998],\n",
              "       [ 0.44722556, -0.43728154],\n",
              "       [-1.10472682,  0.52090936],\n",
              "       [ 0.35022854,  0.55085283],\n",
              "       [-0.2317536 , -0.34745114],\n",
              "       [ 1.99917794, -0.91637699],\n",
              "       [ 1.32019878, -1.36552898],\n",
              "       [ 2.09617497,  1.83842186],\n",
              "       [-0.2317536 , -1.45535938],\n",
              "       [ 1.12620473, -0.88643353],\n",
              "       [ 1.70818687,  1.83842186],\n",
              "       [ 0.35022854,  0.10170084],\n",
              "       [-0.71673872,  0.61073976],\n",
              "       [ 0.35022854,  0.10170084],\n",
              "       [-0.03775956, -0.34745114],\n",
              "       [-1.00772979, -0.31750768],\n",
              "       [ 2.19317199, -0.67682927],\n",
              "       [ 1.12620473, -0.97626392],\n",
              "       [-0.52274467,  1.98813918],\n",
              "       [-0.32875063, -1.30564205],\n",
              "       [ 1.02920771,  2.16779998],\n",
              "       [-1.29872087,  0.46102243],\n",
              "       [ 0.83521366, -0.28756421],\n",
              "       [ 1.22320175,  0.58079629],\n",
              "       [-1.20172384, -1.06609432],\n",
              "       [-0.2317536 , -0.31750768],\n",
              "       [-0.03775956,  0.07175738],\n",
              "       [ 0.93221068, -1.45535938],\n",
              "       [-0.91073277,  0.46102243],\n",
              "       [-0.13475658,  2.25763038],\n",
              "       [-0.03775956,  0.19153124],\n",
              "       [-1.78370598, -1.30564205],\n",
              "       [ 0.25323152, -0.10790342],\n",
              "       [ 2.09617497,  0.58079629],\n",
              "       [-1.10472682,  0.34124857],\n",
              "       [ 0.93221068, -1.15592472],\n",
              "       [ 0.83521366,  0.3113051 ],\n",
              "       [ 1.12620473, -1.21581165],\n",
              "       [ 0.25323152,  0.10170084],\n",
              "       [ 1.4171958 , -1.42541591],\n",
              "       [-1.68670896, -1.36552898],\n",
              "       [ 1.02920771, -1.06609432],\n",
              "       [-1.29872087, -0.31750768],\n",
              "       [ 0.05923747,  0.34124857],\n",
              "       [-0.2317536 ,  0.07175738],\n",
              "       [ 1.51419283,  0.10170084],\n",
              "       [ 0.15623449,  0.07175738],\n",
              "       [-0.2317536 , -0.88643353],\n",
              "       [ 0.05923747, -0.52711194],\n",
              "       [-0.13475658,  0.91017442],\n",
              "       [ 0.35022854, -0.70677273],\n",
              "       [ 1.12620473, -1.21581165],\n",
              "       [ 0.25323152,  0.07175738],\n",
              "       [-0.6197417 ,  0.61073976],\n",
              "       [-1.88070301,  0.52090936],\n",
              "       [-1.00772979, -0.31750768],\n",
              "       [ 1.99917794,  0.97006135],\n",
              "       [-0.03775956,  2.25763038],\n",
              "       [-1.39571789, -1.45535938],\n",
              "       [ 0.05923747,  0.07175738],\n",
              "       [-0.6197417 , -1.51524631],\n",
              "       [ 0.44722556,  0.34124857],\n",
              "       [ 1.99917794, -1.36552898],\n",
              "       [ 1.61118985, -1.27569858],\n",
              "       [ 0.15623449, -0.22767728]])"
            ]
          },
          "metadata": {},
          "execution_count": 42
        }
      ],
      "source": [
        "X_train"
      ]
    },
    {
      "cell_type": "code",
      "execution_count": null,
      "metadata": {
        "collapsed": true,
        "id": "ri8u9tEzw-ng",
        "outputId": "42356de0-b9dd-47bf-e454-2969788d01ec",
        "colab": {
          "base_uri": "https://localhost:8080/"
        }
      },
      "outputs": [
        {
          "output_type": "execute_result",
          "data": {
            "text/plain": [
              "array([[-0.11795815,  0.0451975 ],\n",
              "       [-0.95060394,  0.41242718],\n",
              "       [ 0.06707424,  1.74010374],\n",
              "       [ 0.06707424,  1.40112249],\n",
              "       [-1.69073352, -0.66101343],\n",
              "       [-0.30299055, -0.01129937],\n",
              "       [ 1.08475242, -1.48021811],\n",
              "       [ 0.62217143, -1.31072749],\n",
              "       [ 0.06707424,  1.74010374],\n",
              "       [ 0.25210664, -0.01129937],\n",
              "       [ 0.89972003,  0.0451975 ],\n",
              "       [ 2.00991441,  0.83615374],\n",
              "       [ 0.62217143, -1.42372124],\n",
              "       [ 0.06707424,  0.66666312],\n",
              "       [ 0.62217143, -1.14123687],\n",
              "       [-1.59821732, -0.12429312],\n",
              "       [ 2.00991441, -0.85875249],\n",
              "       [-0.21047435, -0.632765  ],\n",
              "       [-0.76557154, -0.29378375],\n",
              "       [ 1.45481722,  0.89265062],\n",
              "       [-0.30299055, -0.71751031],\n",
              "       [-0.30299055, -1.3954728 ],\n",
              "       [-0.30299055, -0.49152281],\n",
              "       [ 1.36230102,  0.89265062],\n",
              "       [-0.58053914, -1.53671499],\n",
              "       [-0.95060394, -0.37852906],\n",
              "       [-1.04312013,  0.66666312],\n",
              "       [ 0.80720383, -1.08473999],\n",
              "       [ 0.89972003,  1.65535843],\n",
              "       [ 0.15959044,  0.07344594],\n",
              "       [-1.32066873, -1.28247905],\n",
              "       [-1.78324972,  0.10169437],\n",
              "       [ 0.34462284, -0.20903844],\n",
              "       [-0.85808774,  0.07344594],\n",
              "       [-0.48802295, -0.83050406],\n",
              "       [ 0.15959044, -0.32203219],\n",
              "       [ 0.89972003, -1.11298843],\n",
              "       [ 2.00991441, -1.08473999],\n",
              "       [-0.39550675,  1.11863812],\n",
              "       [ 0.15959044,  0.07344594],\n",
              "       [ 0.89972003, -0.88700093],\n",
              "       [-1.41318493, -1.25423062],\n",
              "       [-0.67305534, -1.08473999],\n",
              "       [-0.48802295, -0.35028062],\n",
              "       [ 0.34462284,  1.00564437],\n",
              "       [-0.58053914,  1.34462562],\n",
              "       [-0.76557154,  0.41242718],\n",
              "       [ 0.89972003,  1.74010374],\n",
              "       [ 1.54733341, -0.94349781],\n",
              "       [ 0.25210664, -0.37852906],\n",
              "       [ 1.26978482,  2.19207873],\n",
              "       [-0.30299055, -0.632765  ],\n",
              "       [ 1.17726862,  1.74010374],\n",
              "       [ 0.06707424,  0.07344594],\n",
              "       [-1.13563633, -1.05649155],\n",
              "       [-1.32066873, -1.3954728 ],\n",
              "       [-0.48802295, -1.25423062],\n",
              "       [ 1.91739821,  0.10169437],\n",
              "       [-1.50570113, -1.28247905],\n",
              "       [ 0.06707424, -0.85875249],\n",
              "       [ 1.63984961,  1.7118553 ],\n",
              "       [ 0.80720383, -0.66101343],\n",
              "       [-0.30299055, -0.80225562],\n",
              "       [-0.30299055, -0.35028062],\n",
              "       [-1.13563633,  1.28812874],\n",
              "       [ 0.15959044, -0.43502593],\n",
              "       [-0.21047435, -0.57626812],\n",
              "       [ 1.91739821,  1.99433967],\n",
              "       [-1.41318493, -0.18079   ],\n",
              "       [ 0.06707424, -0.03954781],\n",
              "       [-0.21047435, -1.11298843],\n",
              "       [-1.69073352,  0.38417875],\n",
              "       [ 0.34462284,  0.21468812],\n",
              "       [ 0.80720383, -0.60451656],\n",
              "       [-1.41318493,  0.271185  ],\n",
              "       [ 0.89972003,  0.4971725 ],\n",
              "       [-0.48802295, -0.60451656],\n",
              "       [-1.32066873, -1.50846655],\n",
              "       [-1.04312013,  0.32768187],\n",
              "       [-0.58053914,  0.38417875],\n",
              "       [-0.85808774,  2.13558186],\n",
              "       [ 1.73236581,  0.0451975 ],\n",
              "       [-1.13563633,  0.24293656],\n",
              "       [-1.78324972,  0.35593031],\n",
              "       [ 1.82488201, -0.71751031],\n",
              "       [ 1.26978482, -0.97174624],\n",
              "       [-0.02544195, -0.37852906],\n",
              "       [ 0.99223623,  0.46892406],\n",
              "       [-1.32066873,  0.46892406],\n",
              "       [-0.39550675, -0.01129937],\n",
              "       [-0.48802295,  2.1638303 ],\n",
              "       [-0.30299055, -1.42372124],\n",
              "       [-0.11795815,  0.21468812],\n",
              "       [ 0.34462284,  2.1638303 ],\n",
              "       [-0.02544195, -0.49152281],\n",
              "       [ 1.26978482,  0.4971725 ],\n",
              "       [ 1.73236581, -0.35028062],\n",
              "       [ 0.15959044,  0.97739593],\n",
              "       [-1.22815253, -1.42372124],\n",
              "       [-0.02544195, -0.32203219],\n",
              "       [-0.67305534, -0.03954781],\n",
              "       [-0.30299055, -0.37852906],\n",
              "       [-0.58053914,  2.19207873],\n",
              "       [ 1.73236581,  1.40112249],\n",
              "       [-1.50570113,  0.24293656],\n",
              "       [ 0.25210664, -0.57626812],\n",
              "       [-0.58053914,  0.77965687],\n",
              "       [-0.67305534, -0.18079   ],\n",
              "       [ 1.82488201,  2.02258811],\n",
              "       [ 0.25210664,  0.21468812],\n",
              "       [-1.04312013, -1.56496343],\n",
              "       [-0.76557154,  1.76835217],\n",
              "       [-0.85808774, -0.32203219],\n",
              "       [-1.13563633, -1.19773374],\n",
              "       [ 1.08475242, -0.80225562],\n",
              "       [ 0.06707424,  0.94914749],\n",
              "       [ 1.91739821,  0.29943344],\n",
              "       [-0.30299055, -0.20903844],\n",
              "       [ 0.34462284, -0.20903844],\n",
              "       [ 0.34462284,  0.4971725 ]])"
            ]
          },
          "metadata": {},
          "execution_count": 43
        }
      ],
      "source": [
        "X_test"
      ]
    },
    {
      "cell_type": "code",
      "execution_count": null,
      "metadata": {
        "id": "lSp83DSRw-ng"
      },
      "outputs": [],
      "source": [
        "from sklearn.svm import SVC"
      ]
    },
    {
      "cell_type": "code",
      "execution_count": null,
      "metadata": {
        "id": "NDuLNBH2w-ng"
      },
      "outputs": [],
      "source": [
        "classifier = SVC(kernel = 'linear', random_state=0)"
      ]
    },
    {
      "cell_type": "code",
      "execution_count": null,
      "metadata": {
        "colab": {
          "base_uri": "https://localhost:8080/",
          "height": 75
        },
        "id": "vr0OqqNOw-nh",
        "outputId": "ec79ba2b-6ee1-4ec4-f607-697c841ec97a"
      },
      "outputs": [
        {
          "output_type": "execute_result",
          "data": {
            "text/plain": [
              "SVC(kernel='linear', random_state=0)"
            ],
            "text/html": [
              "<style>#sk-container-id-2 {color: black;background-color: white;}#sk-container-id-2 pre{padding: 0;}#sk-container-id-2 div.sk-toggleable {background-color: white;}#sk-container-id-2 label.sk-toggleable__label {cursor: pointer;display: block;width: 100%;margin-bottom: 0;padding: 0.3em;box-sizing: border-box;text-align: center;}#sk-container-id-2 label.sk-toggleable__label-arrow:before {content: \"▸\";float: left;margin-right: 0.25em;color: #696969;}#sk-container-id-2 label.sk-toggleable__label-arrow:hover:before {color: black;}#sk-container-id-2 div.sk-estimator:hover label.sk-toggleable__label-arrow:before {color: black;}#sk-container-id-2 div.sk-toggleable__content {max-height: 0;max-width: 0;overflow: hidden;text-align: left;background-color: #f0f8ff;}#sk-container-id-2 div.sk-toggleable__content pre {margin: 0.2em;color: black;border-radius: 0.25em;background-color: #f0f8ff;}#sk-container-id-2 input.sk-toggleable__control:checked~div.sk-toggleable__content {max-height: 200px;max-width: 100%;overflow: auto;}#sk-container-id-2 input.sk-toggleable__control:checked~label.sk-toggleable__label-arrow:before {content: \"▾\";}#sk-container-id-2 div.sk-estimator input.sk-toggleable__control:checked~label.sk-toggleable__label {background-color: #d4ebff;}#sk-container-id-2 div.sk-label input.sk-toggleable__control:checked~label.sk-toggleable__label {background-color: #d4ebff;}#sk-container-id-2 input.sk-hidden--visually {border: 0;clip: rect(1px 1px 1px 1px);clip: rect(1px, 1px, 1px, 1px);height: 1px;margin: -1px;overflow: hidden;padding: 0;position: absolute;width: 1px;}#sk-container-id-2 div.sk-estimator {font-family: monospace;background-color: #f0f8ff;border: 1px dotted black;border-radius: 0.25em;box-sizing: border-box;margin-bottom: 0.5em;}#sk-container-id-2 div.sk-estimator:hover {background-color: #d4ebff;}#sk-container-id-2 div.sk-parallel-item::after {content: \"\";width: 100%;border-bottom: 1px solid gray;flex-grow: 1;}#sk-container-id-2 div.sk-label:hover label.sk-toggleable__label {background-color: #d4ebff;}#sk-container-id-2 div.sk-serial::before {content: \"\";position: absolute;border-left: 1px solid gray;box-sizing: border-box;top: 0;bottom: 0;left: 50%;z-index: 0;}#sk-container-id-2 div.sk-serial {display: flex;flex-direction: column;align-items: center;background-color: white;padding-right: 0.2em;padding-left: 0.2em;position: relative;}#sk-container-id-2 div.sk-item {position: relative;z-index: 1;}#sk-container-id-2 div.sk-parallel {display: flex;align-items: stretch;justify-content: center;background-color: white;position: relative;}#sk-container-id-2 div.sk-item::before, #sk-container-id-2 div.sk-parallel-item::before {content: \"\";position: absolute;border-left: 1px solid gray;box-sizing: border-box;top: 0;bottom: 0;left: 50%;z-index: -1;}#sk-container-id-2 div.sk-parallel-item {display: flex;flex-direction: column;z-index: 1;position: relative;background-color: white;}#sk-container-id-2 div.sk-parallel-item:first-child::after {align-self: flex-end;width: 50%;}#sk-container-id-2 div.sk-parallel-item:last-child::after {align-self: flex-start;width: 50%;}#sk-container-id-2 div.sk-parallel-item:only-child::after {width: 0;}#sk-container-id-2 div.sk-dashed-wrapped {border: 1px dashed gray;margin: 0 0.4em 0.5em 0.4em;box-sizing: border-box;padding-bottom: 0.4em;background-color: white;}#sk-container-id-2 div.sk-label label {font-family: monospace;font-weight: bold;display: inline-block;line-height: 1.2em;}#sk-container-id-2 div.sk-label-container {text-align: center;}#sk-container-id-2 div.sk-container {/* jupyter's `normalize.less` sets `[hidden] { display: none; }` but bootstrap.min.css set `[hidden] { display: none !important; }` so we also need the `!important` here to be able to override the default hidden behavior on the sphinx rendered scikit-learn.org. See: https://github.com/scikit-learn/scikit-learn/issues/21755 */display: inline-block !important;position: relative;}#sk-container-id-2 div.sk-text-repr-fallback {display: none;}</style><div id=\"sk-container-id-2\" class=\"sk-top-container\"><div class=\"sk-text-repr-fallback\"><pre>SVC(kernel=&#x27;linear&#x27;, random_state=0)</pre><b>In a Jupyter environment, please rerun this cell to show the HTML representation or trust the notebook. <br />On GitHub, the HTML representation is unable to render, please try loading this page with nbviewer.org.</b></div><div class=\"sk-container\" hidden><div class=\"sk-item\"><div class=\"sk-estimator sk-toggleable\"><input class=\"sk-toggleable__control sk-hidden--visually\" id=\"sk-estimator-id-2\" type=\"checkbox\" checked><label for=\"sk-estimator-id-2\" class=\"sk-toggleable__label sk-toggleable__label-arrow\">SVC</label><div class=\"sk-toggleable__content\"><pre>SVC(kernel=&#x27;linear&#x27;, random_state=0)</pre></div></div></div></div></div>"
            ]
          },
          "metadata": {},
          "execution_count": 46
        }
      ],
      "source": [
        "classifier.fit(X_train,y_train)"
      ]
    },
    {
      "cell_type": "code",
      "execution_count": null,
      "metadata": {
        "id": "NerwgDuuw-nh"
      },
      "outputs": [],
      "source": [
        "y_pred = classifier.predict(X_test)"
      ]
    },
    {
      "cell_type": "code",
      "execution_count": null,
      "metadata": {
        "colab": {
          "base_uri": "https://localhost:8080/"
        },
        "id": "cWgJuuE6w-ni",
        "outputId": "2ee90140-4bc6-43b1-d98a-e7a2df446f6a"
      },
      "outputs": [
        {
          "output_type": "stream",
          "name": "stdout",
          "text": [
            "[[67  3]\n",
            " [23 27]]\n",
            "Accuracy =  0.7833333333333333\n"
          ]
        }
      ],
      "source": [
        "from sklearn.metrics import confusion_matrix, accuracy_score\n",
        "print(confusion_matrix(y_test,y_pred))\n",
        "print('Accuracy = ', accuracy_score(y_test,y_pred))"
      ]
    },
    {
      "cell_type": "code",
      "execution_count": null,
      "metadata": {
        "colab": {
          "base_uri": "https://localhost:8080/"
        },
        "id": "_YdNS8_Dw-ni",
        "outputId": "7728c49f-d01b-436f-9815-750c101a1ea5"
      },
      "outputs": [
        {
          "output_type": "stream",
          "name": "stdout",
          "text": [
            "[[69  1]\n",
            " [27 23]]\n",
            "Accuracy =  0.7666666666666667\n"
          ]
        }
      ],
      "source": [
        "classifier = SVC(kernel = 'poly', random_state=0,degree = 2)\n",
        "classifier.fit(X_train,y_train)\n",
        "y_pred = classifier.predict(X_test)\n",
        "print(confusion_matrix(y_test,y_pred))\n",
        "print('Accuracy = ', accuracy_score(y_test,y_pred))"
      ]
    },
    {
      "cell_type": "code",
      "execution_count": null,
      "metadata": {
        "colab": {
          "base_uri": "https://localhost:8080/"
        },
        "id": "J85wVCclw-ni",
        "outputId": "8be87e4e-e6fd-47dd-f506-33591dc1a044"
      },
      "outputs": [
        {
          "output_type": "stream",
          "name": "stdout",
          "text": [
            "[[67  3]\n",
            " [23 27]]\n",
            "Accuracy =  0.7833333333333333\n"
          ]
        }
      ],
      "source": [
        "classifier = SVC(kernel = 'poly', random_state=0,degree = 3)\n",
        "classifier.fit(X_train,y_train)\n",
        "y_pred = classifier.predict(X_test)\n",
        "print(confusion_matrix(y_test,y_pred))\n",
        "print('Accuracy = ', accuracy_score(y_test,y_pred))"
      ]
    },
    {
      "cell_type": "code",
      "execution_count": null,
      "metadata": {
        "colab": {
          "base_uri": "https://localhost:8080/"
        },
        "id": "dWn1iCAKw-nj",
        "outputId": "46eba8e2-8851-4690-cb2f-c0e518e533e9"
      },
      "outputs": [
        {
          "output_type": "stream",
          "name": "stdout",
          "text": [
            "[[66  4]\n",
            " [ 9 41]]\n",
            "Accuracy =  0.8916666666666667\n"
          ]
        }
      ],
      "source": [
        "classifier = SVC(kernel = 'rbf', random_state=0)\n",
        "classifier.fit(X_train,y_train)\n",
        "y_pred = classifier.predict(X_test)\n",
        "print(confusion_matrix(y_test,y_pred))\n",
        "print('Accuracy = ', accuracy_score(y_test,y_pred))"
      ]
    },
    {
      "cell_type": "code",
      "execution_count": null,
      "metadata": {
        "colab": {
          "base_uri": "https://localhost:8080/"
        },
        "id": "9B846uT0w-nj",
        "outputId": "7e63074e-d53d-46f8-882d-16e57efb4ff4"
      },
      "outputs": [
        {
          "output_type": "stream",
          "name": "stdout",
          "text": [
            "[[66  4]\n",
            " [ 9 41]]\n",
            "Accuracy =  0.8916666666666667\n"
          ]
        }
      ],
      "source": [
        "classifier = SVC(kernel = 'rbf', random_state=0,C=3)\n",
        "classifier.fit(X_train,y_train)\n",
        "y_pred = classifier.predict(X_test)\n",
        "print(confusion_matrix(y_test,y_pred))\n",
        "print('Accuracy = ', accuracy_score(y_test,y_pred))"
      ]
    },
    {
      "cell_type": "code",
      "execution_count": null,
      "metadata": {
        "id": "lm_kgyEIw-nj"
      },
      "outputs": [],
      "source": []
    }
  ],
  "metadata": {
    "kernelspec": {
      "display_name": "Python 3",
      "language": "python",
      "name": "python3"
    },
    "language_info": {
      "codemirror_mode": {
        "name": "ipython",
        "version": 3
      },
      "file_extension": ".py",
      "mimetype": "text/x-python",
      "name": "python",
      "nbconvert_exporter": "python",
      "pygments_lexer": "ipython3",
      "version": "3.8.5"
    },
    "colab": {
      "provenance": []
    }
  },
  "nbformat": 4,
  "nbformat_minor": 0
}